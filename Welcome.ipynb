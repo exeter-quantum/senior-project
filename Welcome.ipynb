{
 "cells": [
  {
   "cell_type": "markdown",
   "metadata": {},
   "source": [
    "# SRP\\*400: Quantum computing senior project"
   ]
  },
  {
   "cell_type": "markdown",
   "metadata": {},
   "source": [
    "by [Evan Chandran](https://github.com/ecchandran) and [Maxwell Wang](https://github.com/maxzwang)\n",
    "\n",
    "This winter ('20) at Phillips Exeter Academy we worked on a senior project in quantum computing, seeking to learn some of the theory and implications of quantum computation as well as run code on a real quantum computer. We began by studying quantum bits, gates, and circuits using David McMahon’s text *Quantum Computing Explained* \\[1\\]. To practice manipulating quantum bits, we used the Python quantum programming library [pyQuil](https://github.com/rigetti/pyquil) and the [Quantum Virtual Machine (QVM)](https://github.com/rigetti/qvm), a quantum simulator developed at [Rigetti Computing](https://rigetti.com) \\[2\\]. We simulated several quantum states such as the [Greenberger–Horne–Zeilinger (GHZ)](https://en.wikipedia.org/wiki/Greenberger%E2%80%93Horne%E2%80%93Zeilinger_state) \\[3\\] state, a generalized version of a simple entangled state. We also investigated the [Deutsch-Josza algorithm](https://en.wikipedia.org/wiki/Deutsch%E2%80%93Jozsa_algorithm) \\[4\\], one of the first algorithms created to demonstrate quantum advantage over a classical computer. In the last several weeks of our project, we used Rigetti’s Quantum Cloud Services (QCS) platform \\[5\\] to run code on a real Quantum Processing Unit (QPU), and documented our results.\n",
    "\n",
    "**Advisor**: [Jim DiCarlo](https://www.exeter.edu/faculty/james-dicarlo)\n",
    "\n",
    "**Mentor**: [Peter Karalekas](https://github.com/karalekas)\n",
    "\n",
    "## Notebooks\n",
    "\n",
    "By clicking the links below, you can check out the Jupyter notebooks we made as part of the project:\n",
    "\n",
    "- [DeutschJosza.ipynb](DeutschJosza.ipynb): Runs the Deutsch-Josza algorithm for `n=2`\n",
    "- [GHZ.ipynb](GHZ.ipynb): Creates a GHZ state on the desired number of qubits\n",
    "\n",
    "## References\n",
    "\n",
    "1. McMahon, David. Quantum Computing Explained. John Wiley & Sons, 2007.\n",
    "2. Robert S. Smith, Michael J. Curtis, and William J. Zeng. \"A practical quantum instruction set architecture.\" [arXiv:1608.03355](https://arxiv.org/abs/1608.03355) (2016).\n",
    "3. Daniel M. Greenberger, Michael A. Horne, and Anton Zeilinger. \"Going Beyond Bell’s Theorem.\" [arXiv:0712.0921](https://arxiv.org/abs/0712.0921) (2017).\n",
    "4. David Deutsch and Richard Jozsa. (1997) Rapid solution of problems by quantum computation. *Proc. R. Soc. Lond. A* **439**:553–558. http://doi.org/10.1098/rspa.1992.0167\n",
    "5. Peter J Karalekas, Nikolas A Tezak, Eric C Peterson, Colm A Ryan, Marcus P da Silva, and Robert S Smith. A quantum-classical cloud platform optimized for variational hybrid algorithms. *Quantum Sci. Technol.* **5** 024003 (2020). http://dx.doi.org/10.1088/2058-9565/ab7559"
   ]
  }
 ],
 "metadata": {
  "kernelspec": {
   "display_name": "Python 3",
   "language": "python",
   "name": "python3"
  },
  "language_info": {
   "codemirror_mode": {
    "name": "ipython",
    "version": 3
   },
   "file_extension": ".py",
   "mimetype": "text/x-python",
   "name": "python",
   "nbconvert_exporter": "python",
   "pygments_lexer": "ipython3",
   "version": "3.8.1"
  }
 },
 "nbformat": 4,
 "nbformat_minor": 4
}
