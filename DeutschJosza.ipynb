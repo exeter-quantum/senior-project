{
 "cells": [
  {
   "cell_type": "markdown",
   "metadata": {},
   "source": [
    "# Running the Deutsch-Josza algorithm\n",
    "\n",
    "For SRP\\*400 in Winter 2019-2020 at Phillips Exeter Academy, by [Evan Chandran](https://github.com/ecchandran) and [Maxwell Wang](https://github.com/maxzwang).\n",
    "\n",
    "Runs the [Deutsch-Josza algorithm](https://en.wikipedia.org/wiki/Deutsch%E2%80%93Jozsa_algorithm) \\[1\\] for `n = 2` using [pyQuil](https://github.com/rigetti/pyquil) and the [Quantum Virtual Machine (QVM)](https://github.com/rigetti/qvm), and plots a histogram of the outcomes.\n",
    "\n",
    "\\[1\\] David Deutsch and Richard Jozsa. (1997) Rapid solution of problems by quantum computation. _Proc. R. Soc. Lond. A_ **439**:553–558.\n",
    "http://doi.org/10.1098/rspa.1992.0167"
   ]
  },
  {
   "cell_type": "code",
   "execution_count": 1,
   "metadata": {},
   "outputs": [],
   "source": [
    "import math\n",
    "import random\n",
    "\n",
    "import matplotlib.pyplot as plt\n",
    "import numpy as np\n",
    "from pyquil import get_qc, Program\n",
    "from pyquil.api import WavefunctionSimulator\n",
    "from pyquil.gates import CNOT, H, MEASURE, X\n",
    "from pyquil.latex import display"
   ]
  },
  {
   "cell_type": "markdown",
   "metadata": {},
   "source": [
    "## Choose parameters\n",
    "\n",
    "Each time this cell is run, a random `oracle_id` is selected, which picks a particular binary function in the `oracle_dict`."
   ]
  },
  {
   "cell_type": "code",
   "execution_count": 2,
   "metadata": {},
   "outputs": [],
   "source": [
    "n = 2  # currently only works for n = 2\n",
    "num_shots = 1000  # the number of times to run the quantum circuit\n",
    "\n",
    "oracle_dict = {0: 'constant_0', 1: 'constant_1',\n",
    "               2: 'balanced_XOR', 3: 'balanced_NOT_XOR',\n",
    "               4: 'balanced_X1', 5: 'balanced_NOT_X1',\n",
    "               6: 'balanced_X0', 7: 'balanced_NOT_X0'}\n",
    "\n",
    "oracle_id = random.randrange(8)"
   ]
  },
  {
   "cell_type": "markdown",
   "metadata": {},
   "source": [
    "## Build the pyQuil `Program`"
   ]
  },
  {
   "cell_type": "code",
   "execution_count": 3,
   "metadata": {},
   "outputs": [
    {
     "name": "stdout",
     "output_type": "stream",
     "text": [
      "You don't know this yet, but f is balanced\n",
      "The secret oracle is balanced_X0\n",
      "\n",
      "Quil Program:\n",
      "\n",
      "DECLARE ro BIT[2]\n",
      "X 2\n",
      "H 0\n",
      "H 1\n",
      "H 2\n",
      "CNOT 0 2\n",
      "H 0\n",
      "H 1\n",
      "MEASURE 0 ro[0]\n",
      "MEASURE 1 ro[1]\n",
      "\n"
     ]
    }
   ],
   "source": [
    "p = Program()\n",
    "ro = p.declare('ro', 'BIT', n)\n",
    "\n",
    "# prepare initial state\n",
    "\n",
    "p += X(n)\n",
    "\n",
    "for i in range(n + 1):\n",
    "    p += H(i)\n",
    "\n",
    "# add the \"blackbox\" oracle\n",
    "\n",
    "if oracle_id == 0 or oracle_id == 1:\n",
    "    print(\"You don't know this yet, but f is constant\")\n",
    "    print(\"The secret oracle is \" + oracle_dict.get(oracle_id))\n",
    "else:\n",
    "    print(\"You don't know this yet, but f is balanced\")\n",
    "    print(\"The secret oracle is \" + oracle_dict.get(oracle_id))\n",
    "    \n",
    "if oracle_id == 1:\n",
    "    p += X(2)\n",
    "elif oracle_id == 2:\n",
    "    p += CNOT(0, 1)\n",
    "    p += CNOT(1, 2)\n",
    "    p += CNOT(0, 1)\n",
    "elif oracle_id == 3:\n",
    "    p += CNOT(0, 1)\n",
    "    p += CNOT(1, 2)\n",
    "    p += CNOT(0, 1)\n",
    "    p += X(2)\n",
    "elif oracle_id == 4:\n",
    "    p += CNOT(1, 2)\n",
    "elif oracle_id == 5:\n",
    "    p += CNOT(1, 2)\n",
    "    p += X(2)\n",
    "elif oracle_id == 6:\n",
    "    p += CNOT(0, 2)\n",
    "elif oracle_id == 7:\n",
    "    p += CNOT(0, 2)\n",
    "    p += X(2)\n",
    "\n",
    "# undo Hadamards and measure\n",
    "\n",
    "for i in range(n):\n",
    "    p += H(i)\n",
    "\n",
    "for i in range(n):\n",
    "    p += MEASURE(i, ro[i])\n",
    "    \n",
    "p.wrap_in_numshots_loop(num_shots)\n",
    "\n",
    "print(\"\\nQuil Program:\\n\")\n",
    "print(p)"
   ]
  },
  {
   "cell_type": "markdown",
   "metadata": {},
   "source": [
    "## Display the Deutsch-Josza circuit\n",
    "\n",
    "**NOTE**: Requires `pdflatex` and `convert` to be installed (can be installed on mac via `brew install mactex imagemagick`)."
   ]
  },
  {
   "cell_type": "code",
   "execution_count": 4,
   "metadata": {},
   "outputs": [
    {
     "data": {
      "image/png": "[encoded data removed]",
      "text/plain": [
       "<IPython.core.display.Image object>"
      ]
     },
     "execution_count": 4,
     "metadata": {},
     "output_type": "execute_result"
    }
   ],
   "source": [
    "display(p)"
   ]
  },
  {
   "cell_type": "markdown",
   "metadata": {},
   "source": [
    "## Compile and run the `Program`\n",
    "\n",
    "By default uses a noisy QVM, meaning that we are running on a quantum simulator with simulated noise. Alternatively, if we have access to real quantum processors (QPUs) via [Quantum Cloud Services (QCS)](https://github.com/rigetti/qcs-paper) we could use actual physical qubits by replacing the string with a lattice name (e.g. `Aspen-4-3Q-D`)."
   ]
  },
  {
   "cell_type": "code",
   "execution_count": 5,
   "metadata": {},
   "outputs": [
    {
     "name": "stdout",
     "output_type": "stream",
     "text": [
      "Here's what the wavefunction, |y x1 x0>, should be after the algorithm:\n",
      "(0.7071067812+0j)|001> + (-0.7071067812+0j)|101>\n"
     ]
    }
   ],
   "source": [
    "wfn = WavefunctionSimulator().wavefunction(p)\n",
    "print(f\"Here's what the wavefunction, |y x1 x0>, should be after the algorithm:\\n{wfn}\")\n",
    "\n",
    "qc = get_qc('3q-noisy-qvm')  # we've also used Aspen-4-3Q-D', 'Aspen-7-3Q-C'\n",
    "np = qc.compiler.quil_to_native_quil(p)\n",
    "exe = qc.compiler.native_quil_to_executable(np)\n",
    "output = qc.run(exe)"
   ]
  },
  {
   "cell_type": "markdown",
   "metadata": {},
   "source": [
    "## Collect counts and determine if constant or balanced"
   ]
  },
  {
   "cell_type": "code",
   "execution_count": 6,
   "metadata": {},
   "outputs": [
    {
     "name": "stdout",
     "output_type": "stream",
     "text": [
      "Number of trials where f is found to be constant: 98\n",
      "Number of trials where f is found to be balanced: 902\n",
      "\n",
      "We conclude the function is BALANCED\n"
     ]
    }
   ],
   "source": [
    "balCount = 0\n",
    "conCount = 0\n",
    "count00 = 0\n",
    "count01 = 0\n",
    "count10 = 0\n",
    "count11 = 0\n",
    "\n",
    "for state in output:\n",
    "    if state[0] == 0 and state[1] == 0:\n",
    "        conCount += 1\n",
    "        count00 += 1\n",
    "    elif state[0] == 1 and state[1] == 0:\n",
    "        balCount += 1\n",
    "        count01 += 1\n",
    "    elif state[0] == 0 and state[1] == 1:\n",
    "        balCount += 1\n",
    "        count10 += 1\n",
    "    else:\n",
    "        balCount += 1\n",
    "        count11 += 1\n",
    "\n",
    "print(f\"Number of trials where f is found to be constant: {conCount}\")\n",
    "print(f\"Number of trials where f is found to be balanced: {balCount}\\n\")\n",
    "\n",
    "if conCount > balCount:\n",
    "    print(\"We conclude the function is CONSTANT\")\n",
    "elif conCount < balCount:\n",
    "    print(\"We conclude the function is BALANCED\")\n",
    "else:\n",
    "    print(\"Inconclusive results\")\n",
    "\n",
    "names = ['|00> (Constant)','|01> (Balanced)', '|10> (Balanced)','|11> (Balanced)']\n",
    "values = [count00, count01, count10, count11]"
   ]
  },
  {
   "cell_type": "markdown",
   "metadata": {},
   "source": [
    "## Plot histogram of bitstring outcomes"
   ]
  },
  {
   "cell_type": "code",
   "execution_count": 7,
   "metadata": {},
   "outputs": [
    {
     "data": {
      "image/png": "[encoded data removed]",
      "text/plain": [
       "<Figure size 720x360 with 1 Axes>"
      ]
     },
     "metadata": {
      "needs_background": "light"
     },
     "output_type": "display_data"
    }
   ],
   "source": [
    "plt.figure(figsize=(10, 5))\n",
    "plt.bar(names, values)\n",
    "plt.title(\"Measurements of |x1 x0>\")\n",
    "plt.show()"
   ]
  }
 ],
 "metadata": {
  "kernelspec": {
   "display_name": "Python 3",
   "language": "python",
   "name": "python3"
  },
  "language_info": {
   "codemirror_mode": {
    "name": "ipython",
    "version": 3
   },
   "file_extension": ".py",
   "mimetype": "text/x-python",
   "name": "python",
   "nbconvert_exporter": "python",
   "pygments_lexer": "ipython3",
   "version": "3.8.1"
  }
 },
 "nbformat": 4,
 "nbformat_minor": 4
}
